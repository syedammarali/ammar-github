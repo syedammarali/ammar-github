{
 "cells": [
  {
   "cell_type": "markdown",
   "metadata": {},
   "source": [
    "# Ammar Ali - Capstone Project"
   ]
  },
  {
   "cell_type": "markdown",
   "metadata": {},
   "source": [
    "<img src=\"housing.jpg\" width=\"200\">"
   ]
  },
  {
   "cell_type": "markdown",
   "metadata": {},
   "source": [
    "## Business Problem"
   ]
  },
  {
   "cell_type": "markdown",
   "metadata": {},
   "source": [
    "This project is geared to analyze the attractiveness of a given residential area. Attractiveness of a residential area, be it landed housing, apartment complexes and so on, can be determined by the availability of services around the said property. The basic requirements, of any neighborhood include (but are not limited to):\n",
    "\n",
    "* Schools\n",
    "* Police Station\n",
    "* Medical Centers\n",
    "* Fire Stations\n",
    "* Shopping Malls\n",
    "* Banks\n",
    "\n",
    "Although it is difficult to establish what all facilities are a must for a neighborhood to be better than the other, the project will aim at establishing a procedure whereby the user can customize her preferences to determine the attractiveness of a given residence. \n",
    "\n"
   ]
  },
  {
   "cell_type": "markdown",
   "metadata": {},
   "source": [
    "## Data Requirement"
   ]
  },
  {
   "cell_type": "markdown",
   "metadata": {},
   "source": [
    "For the purpose of this project, the following data will be required and retrieved from FourSquare:\n",
    "\n",
    "* Name of Property / Starting Point - This can either be entered by the user, or be retrieved from FourSquare. Ideally it will be best if the user provides the name of the property or address where they are considering taking up residence.\n",
    "* From FourSquare, the code will retrieve the facilities pre-specified (based on type) to determine the proximity of these facilities to the desired area/property. \n",
    "* Although the type of data requirement is similar, an additional analysis will be done for popular residential areas (to be chosen) to determine how does the selected area compare in terms of these facilities."
   ]
  },
  {
   "cell_type": "code",
   "execution_count": null,
   "metadata": {},
   "outputs": [],
   "source": []
  }
 ],
 "metadata": {
  "kernelspec": {
   "display_name": "Python 3",
   "language": "python",
   "name": "python3"
  },
  "language_info": {
   "codemirror_mode": {
    "name": "ipython",
    "version": 3
   },
   "file_extension": ".py",
   "mimetype": "text/x-python",
   "name": "python",
   "nbconvert_exporter": "python",
   "pygments_lexer": "ipython3",
   "version": "3.6.5"
  }
 },
 "nbformat": 4,
 "nbformat_minor": 2
}
